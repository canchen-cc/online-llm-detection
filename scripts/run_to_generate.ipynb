{
 "cells": [
  {
   "cell_type": "code",
   "execution_count": null,
   "id": "64efc344-1378-4436-b24b-1c98a8955f60",
   "metadata": {
    "tags": []
   },
   "outputs": [],
   "source": [
    "#Generate fake olympic news by gemini-1.5-flash\n",
    "!/.../scripts/gemini_1.5_flash_generate.py --input_file \"/.../data/raw_data/olympic2024.raw_data.json\" --output_file \"/.../data/raw_data/olympic.gemini_1.5_flash.raw_data.json\" --project_id \"...\" --model_name \"gemini-1.5-flash-001\"\n",
    "\n"
   ]
  },
  {
   "cell_type": "code",
   "execution_count": null,
   "id": "145a06fb-3eb5-4994-9b77-7108d4a79fd6",
   "metadata": {
    "tags": []
   },
   "outputs": [],
   "source": [
    "#Generate fake olympic news by gemini-1.5-pro\n",
    "!/.../scripts/gemini_1.5_pro_generate.py --input_file \"/.../data/raw_data/olympic2024.raw_data.json\" --output_file \"/.../data/raw_data/olympic.gemini_1.5_pro.raw_data.json\" --project_id \"...\" --model_name \"gemini-1.5-pro-001\"\n"
   ]
  },
  {
   "cell_type": "code",
   "execution_count": null,
   "id": "1cd8a045-305a-4afc-981e-754cd7675ad5",
   "metadata": {},
   "outputs": [],
   "source": [
    "#Generate fake olympic news by PaLM 2\n",
    "!/.../scripts/palm_generate.py --input_file \"/.../data/raw_data/original_data/olympic2024.raw_data.json\" --output_file \"/.../data/raw_data/olympic.palm2.raw_data.json\" --project_id \"...\" --model_name \"text-bison@001\"\n"
   ]
  }
 ],
 "metadata": {
  "environment": {
   "kernel": "myenv",
   "name": "workbench-notebooks.m123",
   "type": "gcloud",
   "uri": "us-docker.pkg.dev/deeplearning-platform-release/gcr.io/workbench-notebooks:m123"
  },
  "kernelspec": {
   "display_name": "Python 3 (ipykernel)",
   "language": "python",
   "name": "python3"
  },
  "language_info": {
   "codemirror_mode": {
    "name": "ipython",
    "version": 3
   },
   "file_extension": ".py",
   "mimetype": "text/x-python",
   "name": "python",
   "nbconvert_exporter": "python",
   "pygments_lexer": "ipython3",
   "version": "3.11.0"
  }
 },
 "nbformat": 4,
 "nbformat_minor": 5
}
