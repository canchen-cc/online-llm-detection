{
 "cells": [
  {
   "cell_type": "code",
   "execution_count": 1,
   "id": "64efc344-1378-4436-b24b-1c98a8955f60",
   "metadata": {
    "tags": []
   },
   "outputs": [
    {
     "name": "stdout",
     "output_type": "stream"
    }
   ],
   "source": [
    "import time \n",
    "start=time.time()\n",
    "!/.../scripts/gemini_1.5_flash_generate.py --input_file \"/.../data/raw_data/olympic2024.raw_data.json\" --output_file \"/.../data/raw_data/olympic.gemini_1.5_flash.raw_data.json\" --project_id \"...\" --model_name \"...\"\n",
    "end=time.time()\n",
    "print(f\"run{(end-start)/60}mins\")\n"
   ]
  },
  {
   "cell_type": "code",
   "execution_count": 2,
   "id": "145a06fb-3eb5-4994-9b77-7108d4a79fd6",
   "metadata": {
    "tags": []
   },
   "outputs": [
    {
     "name": "stdout",
     "output_type": "stream"
    }
   ],
   "source": [
    "import time \n",
    "start=time.time()\n",
    "!/.../scripts/gemini_1.5_pro_generate.py --input_file \"/.../data/raw_data/olympic2024.raw_data.json\" --output_file \"/.../data/raw_data/olympic.gemini_1.5_pro.raw_data.json\" --project_id \"...\" --model_name \"...\"\n",
    "end=time.time()\n",
    "print(f\"run{(end-start)/60}mins\")\n"
   ]
  },
  {
   "cell_type": "code",
   "execution_count": 3,
   "id": "1cd8a045-305a-4afc-981e-754cd7675ad5",
   "metadata": {},
   "outputs": [
    {
     "name": "stdout",
     "output_type": "stream"
     ]
    }
   ],
   "source": [
    "import time \n",
    "start=time.time()\n",
    "!/.../scripts/palm2_generate.py --input_file \"/.../data/raw_data/olympic2024.raw_data.json\" --output_file \"/.../data/raw_data/olympic.palm2.raw_data.json\" --project_id \"...\" --model_name \"...\"\n",
    "end=time.time()\n",
    "print(f\"run{(end-start)/60}mins\")\n"
   ]
  },
  {
   "cell_type": "code",
   "execution_count": null,
   "id": "86e4f220-3d43-4d50-af9f-98af7ff9ccc0",
   "metadata": {},
   "outputs": [],
   "source": []
  }
 ],
 "metadata": {
  "environment": {
   "kernel": "myenv",
   "name": "workbench-notebooks.m123",
   "type": "gcloud",
   "uri": "us-docker.pkg.dev/deeplearning-platform-release/gcr.io/workbench-notebooks:m123"
  },
  "kernelspec": {
   "display_name": "Python (myenv)",
   "language": "python",
   "name": "myenv"
  },
  "language_info": {
   "codemirror_mode": {
    "name": "ipython",
    "version": 3
   },
   "file_extension": ".py",
   "mimetype": "text/x-python",
   "name": "python",
   "nbconvert_exporter": "python",
   "pygments_lexer": "ipython3",
   "version": "3.8.19"
  }
 },
 "nbformat": 4,
 "nbformat_minor": 5
}
