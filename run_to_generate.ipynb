{
 "cells": [
  {
   "cell_type": "code",
   "execution_count": 1,
   "id": "64efc344-1378-4436-b24b-1c98a8955f60",
   "metadata": {
    "tags": []
   },
   "outputs": [
    {
     "name": "stdout",
     "output_type": "stream",
     "text": [
      "WARNING: All log messages before absl::InitializeLog() is called are written to STDERR\n",
      "I0000 00:00:1723145589.548505    4569 config.cc:230] gRPC experiments enabled: call_status_override_on_cancellation, event_engine_dns, event_engine_listener, http2_stats_fix, monitoring_experiment, pick_first_new, trace_record_callops, work_serializer_clears_time_cache\n",
      "Data saved locally at /home/jupyter/generated_data/olympic.gemini_1.5_flash.json\n",
      "run9.836157119274139mins\n"
     ]
    }
   ],
   "source": [
    "import time \n",
    "start=time.time()\n",
    "!/opt/conda/envs/myenv/bin/python /home/jupyter/scripts/gemini_1.5_flash_generate.py --input_file \"/home/jupyter/original_data/olympic2024.json\" --output_file \"/home/jupyter/generated_data/olympic.gemini_1.5_flash.json\" --project_id \"sequentially-detecting-llms\" --model_name \"gemini-1.5-flash-001\"\n",
    "end=time.time()\n",
    "print(f\"run{(end-start)/60}mins\")\n"
   ]
  },
  {
   "cell_type": "code",
   "execution_count": 2,
   "id": "145a06fb-3eb5-4994-9b77-7108d4a79fd6",
   "metadata": {
    "tags": []
   },
   "outputs": [
    {
     "name": "stdout",
     "output_type": "stream",
     "text": [
      "WARNING: All log messages before absl::InitializeLog() is called are written to STDERR\n",
      "I0000 00:00:1723146179.733042    6413 config.cc:230] gRPC experiments enabled: call_status_override_on_cancellation, event_engine_dns, event_engine_listener, http2_stats_fix, monitoring_experiment, pick_first_new, trace_record_callops, work_serializer_clears_time_cache\n",
      "Data saved locally at /home/jupyter/generated_data/olympic.gemini_1.5_pro.json\n",
      "run30.311540404955547mins\n"
     ]
    }
   ],
   "source": [
    "import time \n",
    "start=time.time()\n",
    "!/opt/conda/envs/myenv/bin/python /home/jupyter/scripts/gemini_1.5_pro_generate.py --input_file \"/home/jupyter/original_data/olympic2024.json\" --output_file \"/home/jupyter/generated_data/olympic.gemini_1.5_pro.json\" --project_id \"sequentially-detecting-llms\" --model_name \"gemini-1.5-pro-001\"\n",
    "end=time.time()\n",
    "print(f\"run{(end-start)/60}mins\")\n"
   ]
  },
  {
   "cell_type": "code",
   "execution_count": 3,
   "id": "1cd8a045-305a-4afc-981e-754cd7675ad5",
   "metadata": {},
   "outputs": [
    {
     "name": "stdout",
     "output_type": "stream",
     "text": [
      "WARNING: All log messages before absl::InitializeLog() is called are written to STDERR\n",
      "I0000 00:00:1723147998.252361   11922 config.cc:230] gRPC experiments enabled: call_status_override_on_cancellation, event_engine_dns, event_engine_listener, http2_stats_fix, monitoring_experiment, pick_first_new, trace_record_callops, work_serializer_clears_time_cache\n",
      "Data saved locally at /home/jupyter/generated_data/olympic.palm2.json\n",
      "run12.12690086364746mins\n"
     ]
    }
   ],
   "source": [
    "import time \n",
    "start=time.time()\n",
    "!/opt/conda/envs/myenv/bin/python /home/jupyter/scripts/palm_generate.py --input_file \"/home/jupyter/original_data/olympic2024.json\" --output_file \"/home/jupyter/generated_data/olympic.palm2.json\" --project_id \"sequentially-detecting-llms\" --model_name \"text-bison@001\"\n",
    "end=time.time()\n",
    "print(f\"run{(end-start)/60}mins\")\n"
   ]
  },
  {
   "cell_type": "code",
   "execution_count": null,
   "id": "86e4f220-3d43-4d50-af9f-98af7ff9ccc0",
   "metadata": {},
   "outputs": [],
   "source": []
  }
 ],
 "metadata": {
  "environment": {
   "kernel": "myenv",
   "name": "workbench-notebooks.m123",
   "type": "gcloud",
   "uri": "us-docker.pkg.dev/deeplearning-platform-release/gcr.io/workbench-notebooks:m123"
  },
  "kernelspec": {
   "display_name": "Python (myenv)",
   "language": "python",
   "name": "myenv"
  },
  "language_info": {
   "codemirror_mode": {
    "name": "ipython",
    "version": 3
   },
   "file_extension": ".py",
   "mimetype": "text/x-python",
   "name": "python",
   "nbconvert_exporter": "python",
   "pygments_lexer": "ipython3",
   "version": "3.8.19"
  }
 },
 "nbformat": 4,
 "nbformat_minor": 5
}
